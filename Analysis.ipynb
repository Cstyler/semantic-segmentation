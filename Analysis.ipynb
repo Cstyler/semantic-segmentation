{
 "cells": [
  {
   "cell_type": "code",
   "execution_count": 1,
   "id": "ccf35145-fc8e-449b-a3e8-71315c86bcb3",
   "metadata": {},
   "outputs": [
    {
     "data": {
      "text/plain": [
       "(699, 93)"
      ]
     },
     "execution_count": 1,
     "metadata": {},
     "output_type": "execute_result"
    }
   ],
   "source": [
    "import math\n",
    "\n",
    "width = 512\n",
    "angle_rad = math.radians(30)\n",
    "new_width = width * abs(math.cos(angle_rad)) + width * abs(math.sin(angle_rad))\n",
    "\n",
    "int(new_width), int(new_width - width) // 2"
   ]
  },
  {
   "cell_type": "code",
   "execution_count": null,
   "id": "a135fba2-3699-4b49-9541-6acb9a6a4401",
   "metadata": {},
   "outputs": [],
   "source": []
  }
 ],
 "metadata": {
  "kernelspec": {
   "display_name": "Python 3 (ipykernel)",
   "language": "python",
   "name": "python3"
  },
  "language_info": {
   "codemirror_mode": {
    "name": "ipython",
    "version": 3
   },
   "file_extension": ".py",
   "mimetype": "text/x-python",
   "name": "python",
   "nbconvert_exporter": "python",
   "pygments_lexer": "ipython3",
   "version": "3.10.12"
  }
 },
 "nbformat": 4,
 "nbformat_minor": 5
}
