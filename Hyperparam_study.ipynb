{
 "cells": [
  {
   "cell_type": "code",
   "execution_count": 1,
   "id": "130a67dd-f215-460c-92fc-e60b7fcebe8b",
   "metadata": {
    "id": "2Fg7BglyoHIF",
    "outputId": "0b7c97f5-df5c-472a-8834-b967ee5d5c60"
   },
   "outputs": [],
   "source": [
    "import pickle\n",
    "\n",
    "import optuna\n",
    "import optuna.visualization as vis"
   ]
  },
  {
   "cell_type": "code",
   "execution_count": 2,
   "id": "621c0ae6-5413-468d-abc1-eaa5ba0ad2d1",
   "metadata": {},
   "outputs": [
    {
     "name": "stdout",
     "output_type": "stream",
     "text": [
      "Num of studies: 11\n",
      "study-0428-165206\n"
     ]
    },
    {
     "data": {
      "text/plain": [
       "(0.15075820684432983,\n",
       " 29,\n",
       " <optuna.pruners._median.MedianPruner at 0x7c85787e7fa0>,\n",
       " {'flip_prob': 0.22710206874032077,\n",
       "  'rotate_prob': 0.5428726152618017,\n",
       "  'elastic_prob': 0.4650293204157144,\n",
       "  'translate_prob': 0.5133158088820531,\n",
       "  'brightness_prob': 0.22329210994988455,\n",
       "  'batch_size': 8,\n",
       "  'dropout_p': 0.2993426332977101,\n",
       "  'vanilla_loss': False,\n",
       "  'loss_w0': 6.448921707211469,\n",
       "  'loss_sigma': 8.374976962770637,\n",
       "  'loss_w1': 4.956609462539272,\n",
       "  'use_adam': True,\n",
       "  'lr': 0.00042799813490662517,\n",
       "  'use_cosine_scheduler': False,\n",
       "  'min_lr': 1.1305653886054639e-08,\n",
       "  'lr_patience': 18,\n",
       "  'lr_cooldown': 5,\n",
       "  'lr_factor': 0.05994461330037832})"
      ]
     },
     "execution_count": 2,
     "metadata": {},
     "output_type": "execute_result"
    }
   ],
   "source": [
    "# study_name = \"study-0506-190624\"\n",
    "# study_name = \"study-0502-175711\"\n",
    "study_name = \"study-0428\"\n",
    "storage = f\"sqlite:///Data/{study_name}/Data/seg-study.db\"\n",
    "studies = optuna.study.get_all_study_summaries(storage=storage)\n",
    "print(\"Num of studies:\", len(studies))\n",
    "study = studies[-1]\n",
    "print(study.study_name)\n",
    "\n",
    "try:\n",
    "    with open(f\"Data/{study_name}/Data/studies/{study.study_name}.pkl\", \"rb\") as f:\n",
    "        study_dict = pickle.load(f)\n",
    "\n",
    "    study = optuna.load_study(\n",
    "        study_name=study.study_name,\n",
    "        storage=storage,\n",
    "        sampler=study_dict[\"sampler\"],\n",
    "        pruner=study_dict[\"pruner\"],\n",
    "    )\n",
    "except FileNotFoundError:\n",
    "    study = optuna.load_study(study_name=study.study_name, storage=storage)\n",
    "study.best_value, len(study.trials), study.pruner, study.best_params"
   ]
  },
  {
   "cell_type": "code",
   "execution_count": 16,
   "id": "5c7b5970-51c4-4767-b344-612843501cb6",
   "metadata": {
    "id": "ZiVkyzV9oHIK"
   },
   "outputs": [
    {
     "name": "stdout",
     "output_type": "stream",
     "text": [
      "0.151 6 {'flip_prob': 0.22710206874032077, 'rotate_prob': 0.5428726152618017, 'elastic_prob': 0.4650293204157144, 'translate_prob': 0.5133158088820531, 'brightness_prob': 0.22329210994988455, 'batch_size': 8, 'dropout_p': 0.2993426332977101, 'vanilla_loss': False, 'loss_w0': 6.448921707211469, 'loss_sigma': 8.374976962770637, 'loss_w1': 4.956609462539272, 'use_adam': True, 'lr': 0.00042799813490662517, 'use_cosine_scheduler': False, 'min_lr': 1.1305653886054639e-08, 'lr_patience': 18, 'lr_cooldown': 5, 'lr_factor': 0.05994461330037832} TrialState.COMPLETE\n",
      "0.218 8 {'flip_prob': 0.4313526353435754, 'rotate_prob': 0.5195177074975587, 'elastic_prob': 0.32700822726181755, 'translate_prob': 0.12742941175772288, 'brightness_prob': 0.42366340115700113, 'batch_size': 10, 'dropout_p': 0.3504827301295488, 'vanilla_loss': False, 'loss_w0': 1.8080122449304208, 'loss_sigma': 8.591290764404784, 'loss_w1': 1.2182693112161689, 'use_adam': True, 'lr': 0.00010434565593825852, 'use_cosine_scheduler': False, 'min_lr': 5.2283677896150846e-08, 'lr_patience': 18, 'lr_cooldown': 2, 'lr_factor': 0.06979413235369886} TrialState.COMPLETE\n",
      "0.162 14 {'flip_prob': 0.009720072881651318, 'rotate_prob': 0.42024667098491153, 'elastic_prob': 0.3988396981529909, 'translate_prob': 0.41436109173734237, 'brightness_prob': 0.21006841421066622, 'batch_size': 11, 'dropout_p': 0.24644869706847755, 'vanilla_loss': False, 'loss_w0': 9.830874968468793, 'loss_sigma': 9.970209463165425, 'loss_w1': 2.814546433527814, 'use_adam': True, 'lr': 0.0002683679686073037, 'use_cosine_scheduler': False, 'min_lr': 1.651040034248483e-08, 'lr_patience': 26, 'lr_cooldown': 0, 'lr_factor': 0.14066404869762336} TrialState.COMPLETE\n",
      "0.186 16 {'flip_prob': 0.09375588091199913, 'rotate_prob': 0.4557570443776512, 'elastic_prob': 0.3822397009385803, 'translate_prob': 0.4978479498610684, 'brightness_prob': 0.19807407448824013, 'batch_size': 11, 'dropout_p': 0.2885534234886315, 'vanilla_loss': False, 'loss_w0': 9.87971034671365, 'loss_sigma': 9.919714801427855, 'loss_w1': 3.799681765545178, 'use_adam': True, 'lr': 0.00043527066974019573, 'use_cosine_scheduler': False, 'min_lr': 1.4622306304327343e-08, 'lr_patience': 28, 'lr_cooldown': 0, 'lr_factor': 0.28658718913129255} TrialState.COMPLETE\n",
      "0.154 21 {'flip_prob': 0.07702569434312528, 'rotate_prob': 0.468114689627263, 'elastic_prob': 0.38179462425917543, 'translate_prob': 0.5230607954644066, 'brightness_prob': 0.21660897735219514, 'batch_size': 11, 'dropout_p': 0.27883456891179526, 'vanilla_loss': False, 'loss_w0': 9.65262298799573, 'loss_sigma': 9.886829357882673, 'loss_w1': 3.8417311198545008, 'use_adam': True, 'lr': 0.00041070225281394067, 'use_cosine_scheduler': False, 'min_lr': 1.6529509918091453e-08, 'lr_patience': 28, 'lr_cooldown': 0, 'lr_factor': 0.32541340456148443} TrialState.COMPLETE\n"
     ]
    }
   ],
   "source": [
    "for trial in study.trials:\n",
    "    params = trial.params\n",
    "    if not params[\"vanilla_loss\"]:\n",
    "        v = trial.value\n",
    "        if v and v < 0.25:\n",
    "            print(f\"{v:0.3f}\", trial.number, trial.params, trial.state)"
   ]
  },
  {
   "cell_type": "code",
   "execution_count": 17,
   "id": "2cda6991-a53a-4a60-b767-a0ba1459c8f0",
   "metadata": {
    "id": "mUx4moM2oHIM",
    "outputId": "a5076a68-200e-4427-b814-6834174f7e8e"
   },
   "outputs": [
    {
     "data": {
      "text/plain": [
       "{'dropout_p': np.float64(0.2113420847830501),\n",
       " 'brightness_prob': np.float64(0.19925115549570316),\n",
       " 'use_adam': np.float64(0.16311114064807108),\n",
       " 'min_lr': np.float64(0.10552428811318859),\n",
       " 'flip_prob': np.float64(0.10386092748486696),\n",
       " 'rotate_prob': np.float64(0.07506660634900551),\n",
       " 'elastic_prob': np.float64(0.0676054716301777),\n",
       " 'translate_prob': np.float64(0.03630069552328497),\n",
       " 'batch_size': np.float64(0.022194364702368668),\n",
       " 'vanilla_loss': np.float64(0.01038559929407271),\n",
       " 'use_cosine_scheduler': np.float64(0.005357665976210604)}"
      ]
     },
     "execution_count": 17,
     "metadata": {},
     "output_type": "execute_result"
    }
   ],
   "source": [
    "optuna.importance.get_param_importances(study)"
   ]
  },
  {
   "cell_type": "code",
   "execution_count": 18,
   "id": "da6647c5-b2b9-4472-b04f-bf8b9ac62802",
   "metadata": {
    "id": "GmiBSK18oHIN"
   },
   "outputs": [
    {
     "data": {
      "application/vnd.plotly.v1+json": {
       "config": {
        "plotlyServerURL": "https://plot.ly"
       },
       "data": [
        {
         "cliponaxis": false,
         "hovertemplate": [
          "use_cosine_scheduler (CategoricalDistribution): 0.00216319500843446<extra></extra>",
          "batch_size (IntDistribution): 0.0035311960656752785<extra></extra>",
          "vanilla_loss (CategoricalDistribution): 0.005564784788573434<extra></extra>",
          "elastic_prob (FloatDistribution): 0.02637600533433056<extra></extra>",
          "translate_prob (FloatDistribution): 0.027627191953461954<extra></extra>",
          "min_lr (FloatDistribution): 0.08278906834731546<extra></extra>",
          "flip_prob (FloatDistribution): 0.11425446178182685<extra></extra>",
          "use_adam (CategoricalDistribution): 0.13280438191027952<extra></extra>",
          "rotate_prob (FloatDistribution): 0.13362687052440125<extra></extra>",
          "dropout_p (FloatDistribution): 0.17434356693215902<extra></extra>",
          "brightness_prob (FloatDistribution): 0.2969192773535421<extra></extra>"
         ],
         "name": "Objective Value",
         "orientation": "h",
         "text": [
          "<0.01",
          "<0.01",
          "<0.01",
          "0.03",
          "0.03",
          "0.08",
          "0.11",
          "0.13",
          "0.13",
          "0.17",
          "0.30"
         ],
         "textposition": "outside",
         "type": "bar",
         "x": [
          0.00216319500843446,
          0.0035311960656752785,
          0.005564784788573434,
          0.02637600533433056,
          0.02762719195346195,
          0.08278906834731546,
          0.11425446178182684,
          0.13280438191027952,
          0.13362687052440125,
          0.17434356693215902,
          0.2969192773535421
         ],
         "y": [
          "use_cosine_scheduler",
          "batch_size",
          "vanilla_loss",
          "elastic_prob",
          "translate_prob",
          "min_lr",
          "flip_prob",
          "use_adam",
          "rotate_prob",
          "dropout_p",
          "brightness_prob"
         ]
        }
       ],
       "layout": {
        "template": {
         "data": {
          "bar": [
           {
            "error_x": {
             "color": "#2a3f5f"
            },
            "error_y": {
             "color": "#2a3f5f"
            },
            "marker": {
             "line": {
              "color": "#E5ECF6",
              "width": 0.5
             },
             "pattern": {
              "fillmode": "overlay",
              "size": 10,
              "solidity": 0.2
             }
            },
            "type": "bar"
           }
          ],
          "barpolar": [
           {
            "marker": {
             "line": {
              "color": "#E5ECF6",
              "width": 0.5
             },
             "pattern": {
              "fillmode": "overlay",
              "size": 10,
              "solidity": 0.2
             }
            },
            "type": "barpolar"
           }
          ],
          "carpet": [
           {
            "aaxis": {
             "endlinecolor": "#2a3f5f",
             "gridcolor": "white",
             "linecolor": "white",
             "minorgridcolor": "white",
             "startlinecolor": "#2a3f5f"
            },
            "baxis": {
             "endlinecolor": "#2a3f5f",
             "gridcolor": "white",
             "linecolor": "white",
             "minorgridcolor": "white",
             "startlinecolor": "#2a3f5f"
            },
            "type": "carpet"
           }
          ],
          "choropleth": [
           {
            "colorbar": {
             "outlinewidth": 0,
             "ticks": ""
            },
            "type": "choropleth"
           }
          ],
          "contour": [
           {
            "colorbar": {
             "outlinewidth": 0,
             "ticks": ""
            },
            "colorscale": [
             [
              0,
              "#0d0887"
             ],
             [
              0.1111111111111111,
              "#46039f"
             ],
             [
              0.2222222222222222,
              "#7201a8"
             ],
             [
              0.3333333333333333,
              "#9c179e"
             ],
             [
              0.4444444444444444,
              "#bd3786"
             ],
             [
              0.5555555555555556,
              "#d8576b"
             ],
             [
              0.6666666666666666,
              "#ed7953"
             ],
             [
              0.7777777777777778,
              "#fb9f3a"
             ],
             [
              0.8888888888888888,
              "#fdca26"
             ],
             [
              1,
              "#f0f921"
             ]
            ],
            "type": "contour"
           }
          ],
          "contourcarpet": [
           {
            "colorbar": {
             "outlinewidth": 0,
             "ticks": ""
            },
            "type": "contourcarpet"
           }
          ],
          "heatmap": [
           {
            "colorbar": {
             "outlinewidth": 0,
             "ticks": ""
            },
            "colorscale": [
             [
              0,
              "#0d0887"
             ],
             [
              0.1111111111111111,
              "#46039f"
             ],
             [
              0.2222222222222222,
              "#7201a8"
             ],
             [
              0.3333333333333333,
              "#9c179e"
             ],
             [
              0.4444444444444444,
              "#bd3786"
             ],
             [
              0.5555555555555556,
              "#d8576b"
             ],
             [
              0.6666666666666666,
              "#ed7953"
             ],
             [
              0.7777777777777778,
              "#fb9f3a"
             ],
             [
              0.8888888888888888,
              "#fdca26"
             ],
             [
              1,
              "#f0f921"
             ]
            ],
            "type": "heatmap"
           }
          ],
          "histogram": [
           {
            "marker": {
             "pattern": {
              "fillmode": "overlay",
              "size": 10,
              "solidity": 0.2
             }
            },
            "type": "histogram"
           }
          ],
          "histogram2d": [
           {
            "colorbar": {
             "outlinewidth": 0,
             "ticks": ""
            },
            "colorscale": [
             [
              0,
              "#0d0887"
             ],
             [
              0.1111111111111111,
              "#46039f"
             ],
             [
              0.2222222222222222,
              "#7201a8"
             ],
             [
              0.3333333333333333,
              "#9c179e"
             ],
             [
              0.4444444444444444,
              "#bd3786"
             ],
             [
              0.5555555555555556,
              "#d8576b"
             ],
             [
              0.6666666666666666,
              "#ed7953"
             ],
             [
              0.7777777777777778,
              "#fb9f3a"
             ],
             [
              0.8888888888888888,
              "#fdca26"
             ],
             [
              1,
              "#f0f921"
             ]
            ],
            "type": "histogram2d"
           }
          ],
          "histogram2dcontour": [
           {
            "colorbar": {
             "outlinewidth": 0,
             "ticks": ""
            },
            "colorscale": [
             [
              0,
              "#0d0887"
             ],
             [
              0.1111111111111111,
              "#46039f"
             ],
             [
              0.2222222222222222,
              "#7201a8"
             ],
             [
              0.3333333333333333,
              "#9c179e"
             ],
             [
              0.4444444444444444,
              "#bd3786"
             ],
             [
              0.5555555555555556,
              "#d8576b"
             ],
             [
              0.6666666666666666,
              "#ed7953"
             ],
             [
              0.7777777777777778,
              "#fb9f3a"
             ],
             [
              0.8888888888888888,
              "#fdca26"
             ],
             [
              1,
              "#f0f921"
             ]
            ],
            "type": "histogram2dcontour"
           }
          ],
          "mesh3d": [
           {
            "colorbar": {
             "outlinewidth": 0,
             "ticks": ""
            },
            "type": "mesh3d"
           }
          ],
          "parcoords": [
           {
            "line": {
             "colorbar": {
              "outlinewidth": 0,
              "ticks": ""
             }
            },
            "type": "parcoords"
           }
          ],
          "pie": [
           {
            "automargin": true,
            "type": "pie"
           }
          ],
          "scatter": [
           {
            "fillpattern": {
             "fillmode": "overlay",
             "size": 10,
             "solidity": 0.2
            },
            "type": "scatter"
           }
          ],
          "scatter3d": [
           {
            "line": {
             "colorbar": {
              "outlinewidth": 0,
              "ticks": ""
             }
            },
            "marker": {
             "colorbar": {
              "outlinewidth": 0,
              "ticks": ""
             }
            },
            "type": "scatter3d"
           }
          ],
          "scattercarpet": [
           {
            "marker": {
             "colorbar": {
              "outlinewidth": 0,
              "ticks": ""
             }
            },
            "type": "scattercarpet"
           }
          ],
          "scattergeo": [
           {
            "marker": {
             "colorbar": {
              "outlinewidth": 0,
              "ticks": ""
             }
            },
            "type": "scattergeo"
           }
          ],
          "scattergl": [
           {
            "marker": {
             "colorbar": {
              "outlinewidth": 0,
              "ticks": ""
             }
            },
            "type": "scattergl"
           }
          ],
          "scattermap": [
           {
            "marker": {
             "colorbar": {
              "outlinewidth": 0,
              "ticks": ""
             }
            },
            "type": "scattermap"
           }
          ],
          "scattermapbox": [
           {
            "marker": {
             "colorbar": {
              "outlinewidth": 0,
              "ticks": ""
             }
            },
            "type": "scattermapbox"
           }
          ],
          "scatterpolar": [
           {
            "marker": {
             "colorbar": {
              "outlinewidth": 0,
              "ticks": ""
             }
            },
            "type": "scatterpolar"
           }
          ],
          "scatterpolargl": [
           {
            "marker": {
             "colorbar": {
              "outlinewidth": 0,
              "ticks": ""
             }
            },
            "type": "scatterpolargl"
           }
          ],
          "scatterternary": [
           {
            "marker": {
             "colorbar": {
              "outlinewidth": 0,
              "ticks": ""
             }
            },
            "type": "scatterternary"
           }
          ],
          "surface": [
           {
            "colorbar": {
             "outlinewidth": 0,
             "ticks": ""
            },
            "colorscale": [
             [
              0,
              "#0d0887"
             ],
             [
              0.1111111111111111,
              "#46039f"
             ],
             [
              0.2222222222222222,
              "#7201a8"
             ],
             [
              0.3333333333333333,
              "#9c179e"
             ],
             [
              0.4444444444444444,
              "#bd3786"
             ],
             [
              0.5555555555555556,
              "#d8576b"
             ],
             [
              0.6666666666666666,
              "#ed7953"
             ],
             [
              0.7777777777777778,
              "#fb9f3a"
             ],
             [
              0.8888888888888888,
              "#fdca26"
             ],
             [
              1,
              "#f0f921"
             ]
            ],
            "type": "surface"
           }
          ],
          "table": [
           {
            "cells": {
             "fill": {
              "color": "#EBF0F8"
             },
             "line": {
              "color": "white"
             }
            },
            "header": {
             "fill": {
              "color": "#C8D4E3"
             },
             "line": {
              "color": "white"
             }
            },
            "type": "table"
           }
          ]
         },
         "layout": {
          "annotationdefaults": {
           "arrowcolor": "#2a3f5f",
           "arrowhead": 0,
           "arrowwidth": 1
          },
          "autotypenumbers": "strict",
          "coloraxis": {
           "colorbar": {
            "outlinewidth": 0,
            "ticks": ""
           }
          },
          "colorscale": {
           "diverging": [
            [
             0,
             "#8e0152"
            ],
            [
             0.1,
             "#c51b7d"
            ],
            [
             0.2,
             "#de77ae"
            ],
            [
             0.3,
             "#f1b6da"
            ],
            [
             0.4,
             "#fde0ef"
            ],
            [
             0.5,
             "#f7f7f7"
            ],
            [
             0.6,
             "#e6f5d0"
            ],
            [
             0.7,
             "#b8e186"
            ],
            [
             0.8,
             "#7fbc41"
            ],
            [
             0.9,
             "#4d9221"
            ],
            [
             1,
             "#276419"
            ]
           ],
           "sequential": [
            [
             0,
             "#0d0887"
            ],
            [
             0.1111111111111111,
             "#46039f"
            ],
            [
             0.2222222222222222,
             "#7201a8"
            ],
            [
             0.3333333333333333,
             "#9c179e"
            ],
            [
             0.4444444444444444,
             "#bd3786"
            ],
            [
             0.5555555555555556,
             "#d8576b"
            ],
            [
             0.6666666666666666,
             "#ed7953"
            ],
            [
             0.7777777777777778,
             "#fb9f3a"
            ],
            [
             0.8888888888888888,
             "#fdca26"
            ],
            [
             1,
             "#f0f921"
            ]
           ],
           "sequentialminus": [
            [
             0,
             "#0d0887"
            ],
            [
             0.1111111111111111,
             "#46039f"
            ],
            [
             0.2222222222222222,
             "#7201a8"
            ],
            [
             0.3333333333333333,
             "#9c179e"
            ],
            [
             0.4444444444444444,
             "#bd3786"
            ],
            [
             0.5555555555555556,
             "#d8576b"
            ],
            [
             0.6666666666666666,
             "#ed7953"
            ],
            [
             0.7777777777777778,
             "#fb9f3a"
            ],
            [
             0.8888888888888888,
             "#fdca26"
            ],
            [
             1,
             "#f0f921"
            ]
           ]
          },
          "colorway": [
           "#636efa",
           "#EF553B",
           "#00cc96",
           "#ab63fa",
           "#FFA15A",
           "#19d3f3",
           "#FF6692",
           "#B6E880",
           "#FF97FF",
           "#FECB52"
          ],
          "font": {
           "color": "#2a3f5f"
          },
          "geo": {
           "bgcolor": "white",
           "lakecolor": "white",
           "landcolor": "#E5ECF6",
           "showlakes": true,
           "showland": true,
           "subunitcolor": "white"
          },
          "hoverlabel": {
           "align": "left"
          },
          "hovermode": "closest",
          "mapbox": {
           "style": "light"
          },
          "paper_bgcolor": "white",
          "plot_bgcolor": "#E5ECF6",
          "polar": {
           "angularaxis": {
            "gridcolor": "white",
            "linecolor": "white",
            "ticks": ""
           },
           "bgcolor": "#E5ECF6",
           "radialaxis": {
            "gridcolor": "white",
            "linecolor": "white",
            "ticks": ""
           }
          },
          "scene": {
           "xaxis": {
            "backgroundcolor": "#E5ECF6",
            "gridcolor": "white",
            "gridwidth": 2,
            "linecolor": "white",
            "showbackground": true,
            "ticks": "",
            "zerolinecolor": "white"
           },
           "yaxis": {
            "backgroundcolor": "#E5ECF6",
            "gridcolor": "white",
            "gridwidth": 2,
            "linecolor": "white",
            "showbackground": true,
            "ticks": "",
            "zerolinecolor": "white"
           },
           "zaxis": {
            "backgroundcolor": "#E5ECF6",
            "gridcolor": "white",
            "gridwidth": 2,
            "linecolor": "white",
            "showbackground": true,
            "ticks": "",
            "zerolinecolor": "white"
           }
          },
          "shapedefaults": {
           "line": {
            "color": "#2a3f5f"
           }
          },
          "ternary": {
           "aaxis": {
            "gridcolor": "white",
            "linecolor": "white",
            "ticks": ""
           },
           "baxis": {
            "gridcolor": "white",
            "linecolor": "white",
            "ticks": ""
           },
           "bgcolor": "#E5ECF6",
           "caxis": {
            "gridcolor": "white",
            "linecolor": "white",
            "ticks": ""
           }
          },
          "title": {
           "x": 0.05
          },
          "xaxis": {
           "automargin": true,
           "gridcolor": "white",
           "linecolor": "white",
           "ticks": "",
           "title": {
            "standoff": 15
           },
           "zerolinecolor": "white",
           "zerolinewidth": 2
          },
          "yaxis": {
           "automargin": true,
           "gridcolor": "white",
           "linecolor": "white",
           "ticks": "",
           "title": {
            "standoff": 15
           },
           "zerolinecolor": "white",
           "zerolinewidth": 2
          }
         }
        },
        "title": {
         "text": "Hyperparameter Importances"
        },
        "xaxis": {
         "title": {
          "text": "Hyperparameter Importance"
         }
        },
        "yaxis": {
         "title": {
          "text": "Hyperparameter"
         }
        }
       }
      },
      "image/png": "[encoded data removed]"
     },
     "metadata": {},
     "output_type": "display_data"
    }
   ],
   "source": [
    "vis.plot_param_importances(study)"
   ]
  },
  {
   "cell_type": "code",
   "execution_count": null,
   "id": "d60dc34a-b2d5-481d-aa91-bfa3c83b7462",
   "metadata": {},
   "outputs": [],
   "source": []
  }
 ],
 "metadata": {
  "kernelspec": {
   "display_name": "Python 3 (ipykernel)",
   "language": "python",
   "name": "python3"
  },
  "language_info": {
   "codemirror_mode": {
    "name": "ipython",
    "version": 3
   },
   "file_extension": ".py",
   "mimetype": "text/x-python",
   "name": "python",
   "nbconvert_exporter": "python",
   "pygments_lexer": "ipython3",
   "version": "3.10.12"
  }
 },
 "nbformat": 4,
 "nbformat_minor": 5
}
